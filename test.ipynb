{
 "cells": [
  {
   "cell_type": "code",
   "execution_count": 11,
   "metadata": {
    "collapsed": true
   },
   "outputs": [],
   "source": [
    "import octree\n",
    "import numpy as np\n",
    "from stl import mesh"
   ]
  },
  {
   "cell_type": "code",
   "execution_count": 11,
   "metadata": {},
   "outputs": [
    {
     "name": "stdout",
     "output_type": "stream",
     "text": [
      "[[0, 0, 0, 5.0, 10.0, 15.0], [5.0, 0, 0, 10, 10.0, 15.0], [0, 10.0, 0, 5.0, 20, 15.0], [5.0, 10.0, 0, 10, 20, 15.0], [0, 0, 15.0, 5.0, 10.0, 30], [5.0, 0, 15.0, 10, 10.0, 30], [0, 10.0, 15.0, 5.0, 20, 30], [5.0, 10.0, 15.0, 10, 20, 30]]\n"
     ]
    }
   ],
   "source": [
    "box=[0,0,0,10,20,30]\n",
    "print(octree.splitOctBoxes(box))"
   ]
  },
  {
   "cell_type": "code",
   "execution_count": 12,
   "metadata": {},
   "outputs": [
    {
     "ename": "ValueError",
     "evalue": "operands could not be broadcast together with shapes (3,) (6,) ",
     "output_type": "error",
     "traceback": [
      "\u001b[1;31m---------------------------------------------------------------------------\u001b[0m",
      "\u001b[1;31mValueError\u001b[0m                                Traceback (most recent call last)",
      "\u001b[1;32m<ipython-input-12-2bb030a1f212>\u001b[0m in \u001b[0;36m<module>\u001b[1;34m()\u001b[0m\n\u001b[1;32m----> 1\u001b[1;33m \u001b[0mtree\u001b[0m \u001b[1;33m=\u001b[0m \u001b[0moctree\u001b[0m\u001b[1;33m.\u001b[0m\u001b[0mOctree\u001b[0m\u001b[1;33m(\u001b[0m\u001b[1;34m\"cube.stl\"\u001b[0m\u001b[1;33m)\u001b[0m\u001b[1;33m\u001b[0m\u001b[0m\n\u001b[0m",
      "\u001b[1;32mD:\\Package\\octree_voxelization\\octree.py\u001b[0m in \u001b[0;36m__init__\u001b[1;34m(self, stl_file)\u001b[0m\n\u001b[0;32m    109\u001b[0m         \u001b[1;32massert\u001b[0m \u001b[0mself\u001b[0m\u001b[1;33m.\u001b[0m\u001b[0mtriangles\u001b[0m\u001b[1;33m.\u001b[0m\u001b[0mshape\u001b[0m\u001b[1;33m[\u001b[0m\u001b[1;36m1\u001b[0m\u001b[1;33m:\u001b[0m\u001b[1;33m]\u001b[0m\u001b[1;33m==\u001b[0m\u001b[1;33m(\u001b[0m\u001b[1;36m4\u001b[0m\u001b[1;33m,\u001b[0m\u001b[1;36m3\u001b[0m\u001b[1;33m)\u001b[0m\u001b[1;33m\u001b[0m\u001b[0m\n\u001b[0;32m    110\u001b[0m         \u001b[0mself\u001b[0m\u001b[1;33m.\u001b[0m\u001b[0mbounding_box\u001b[0m \u001b[1;33m=\u001b[0m \u001b[0mnp\u001b[0m\u001b[1;33m.\u001b[0m\u001b[0mappend\u001b[0m\u001b[1;33m(\u001b[0m\u001b[0mself\u001b[0m\u001b[1;33m.\u001b[0m\u001b[0mstl_mesh\u001b[0m\u001b[1;33m.\u001b[0m\u001b[0mmin_\u001b[0m\u001b[1;33m,\u001b[0m \u001b[0mself\u001b[0m\u001b[1;33m.\u001b[0m\u001b[0mstl_mesh\u001b[0m\u001b[1;33m.\u001b[0m\u001b[0mmax_\u001b[0m\u001b[1;33m)\u001b[0m\u001b[1;33m\u001b[0m\u001b[0m\n\u001b[1;32m--> 111\u001b[1;33m         \u001b[1;32massert\u001b[0m \u001b[0mself\u001b[0m\u001b[1;33m.\u001b[0m\u001b[0mbounding_box\u001b[0m\u001b[1;33m.\u001b[0m\u001b[0mshape\u001b[0m\u001b[1;33m==\u001b[0m\u001b[1;33m(\u001b[0m\u001b[1;36m6\u001b[0m\u001b[1;33m,\u001b[0m\u001b[1;33m)\u001b[0m\u001b[1;33m\u001b[0m\u001b[0m\n\u001b[0m\u001b[0;32m    112\u001b[0m         \u001b[0mcTriangles\u001b[0m\u001b[1;33m,\u001b[0m \u001b[0miTriangles\u001b[0m \u001b[1;33m=\u001b[0m \u001b[0mgetBoxTriangles\u001b[0m\u001b[1;33m(\u001b[0m\u001b[0mself\u001b[0m\u001b[1;33m.\u001b[0m\u001b[0mtriangles\u001b[0m\u001b[1;33m,\u001b[0m \u001b[0mself\u001b[0m\u001b[1;33m.\u001b[0m\u001b[0mbounding_box\u001b[0m\u001b[1;33m)\u001b[0m\u001b[1;33m\u001b[0m\u001b[0m\n\u001b[0;32m    113\u001b[0m         \u001b[0mself\u001b[0m\u001b[1;33m.\u001b[0m\u001b[0mroot\u001b[0m \u001b[1;33m=\u001b[0m \u001b[0mOctnode\u001b[0m\u001b[1;33m(\u001b[0m\u001b[0mcTriangles\u001b[0m\u001b[1;33m,\u001b[0m \u001b[0miTriangles\u001b[0m\u001b[1;33m,\u001b[0m \u001b[0mself\u001b[0m\u001b[1;33m.\u001b[0m\u001b[0mbounding_box\u001b[0m\u001b[1;33m)\u001b[0m\u001b[1;33m\u001b[0m\u001b[0m\n",
      "\u001b[1;32mD:\\Package\\octree_voxelization\\octree.py\u001b[0m in \u001b[0;36m__init__\u001b[1;34m(self, ctriangles, itriangles, bounding_box, parent)\u001b[0m\n\u001b[0;32m    133\u001b[0m         \u001b[1;32melse\u001b[0m\u001b[1;33m:\u001b[0m\u001b[1;33m\u001b[0m\u001b[0m\n\u001b[0;32m    134\u001b[0m             \u001b[0mself\u001b[0m\u001b[1;33m.\u001b[0m\u001b[0mlevel\u001b[0m \u001b[1;33m=\u001b[0m \u001b[0mself\u001b[0m\u001b[1;33m.\u001b[0m\u001b[0mparent\u001b[0m\u001b[1;33m.\u001b[0m\u001b[0mlevel\u001b[0m \u001b[1;33m+\u001b[0m \u001b[1;36m1\u001b[0m\u001b[1;33m\u001b[0m\u001b[0m\n\u001b[1;32m--> 135\u001b[1;33m             \u001b[0mself\u001b[0m\u001b[1;33m.\u001b[0m\u001b[0mmaxLevel\u001b[0m \u001b[1;33m=\u001b[0m \u001b[0mself\u001b[0m\u001b[1;33m.\u001b[0m\u001b[0mparent\u001b[0m\u001b[1;33m.\u001b[0m\u001b[0mmaxLevel\u001b[0m\u001b[1;33m\u001b[0m\u001b[0m\n\u001b[0m\u001b[0;32m    136\u001b[0m             \u001b[0mself\u001b[0m\u001b[1;33m.\u001b[0m\u001b[0mminVolFract\u001b[0m \u001b[1;33m=\u001b[0m \u001b[0mself\u001b[0m\u001b[1;33m.\u001b[0m\u001b[0mparent\u001b[0m\u001b[1;33m.\u001b[0m\u001b[0mminVolFract\u001b[0m\u001b[1;33m\u001b[0m\u001b[0m\n\u001b[0;32m    137\u001b[0m         \u001b[0mself\u001b[0m\u001b[1;33m.\u001b[0m\u001b[0msplit\u001b[0m\u001b[1;33m(\u001b[0m\u001b[1;33m)\u001b[0m\u001b[1;33m\u001b[0m\u001b[0m\n",
      "\u001b[1;32mD:\\Package\\octree_voxelization\\octree.py\u001b[0m in \u001b[0;36msplit\u001b[1;34m(self)\u001b[0m\n\u001b[0;32m    162\u001b[0m             \u001b[1;32mreturn\u001b[0m\u001b[1;33m\u001b[0m\u001b[0m\n\u001b[0;32m    163\u001b[0m         \u001b[0mself\u001b[0m\u001b[1;33m.\u001b[0m\u001b[0mbranches\u001b[0m\u001b[1;33m=\u001b[0m\u001b[1;33m[\u001b[0m\u001b[1;33m]\u001b[0m\u001b[1;33m\u001b[0m\u001b[0m\n\u001b[1;32m--> 164\u001b[1;33m         \u001b[0moctBoxes\u001b[0m \u001b[1;33m=\u001b[0m \u001b[0msplitOctBoxes\u001b[0m\u001b[1;33m(\u001b[0m\u001b[0mself\u001b[0m\u001b[1;33m.\u001b[0m\u001b[0mbox\u001b[0m\u001b[1;33m)\u001b[0m\u001b[1;33m\u001b[0m\u001b[0m\n\u001b[0m\u001b[0;32m    165\u001b[0m         \u001b[1;32mfor\u001b[0m \u001b[0moctBox\u001b[0m \u001b[1;32min\u001b[0m \u001b[0moctBoxes\u001b[0m\u001b[1;33m:\u001b[0m\u001b[1;33m\u001b[0m\u001b[0m\n\u001b[0;32m    166\u001b[0m             \u001b[0mitriangles_\u001b[0m\u001b[1;33m,\u001b[0m \u001b[0mctriangles_\u001b[0m \u001b[1;33m=\u001b[0m \u001b[0mgetBoxTriangles\u001b[0m\u001b[1;33m(\u001b[0m\u001b[0mnp\u001b[0m\u001b[1;33m.\u001b[0m\u001b[0mappend\u001b[0m\u001b[1;33m(\u001b[0m\u001b[0mself\u001b[0m\u001b[1;33m.\u001b[0m\u001b[0mitriangles\u001b[0m\u001b[1;33m,\u001b[0m \u001b[0mself\u001b[0m\u001b[1;33m.\u001b[0m\u001b[0mctriangles\u001b[0m\u001b[1;33m,\u001b[0m \u001b[0maxis\u001b[0m\u001b[1;33m=\u001b[0m\u001b[1;36m0\u001b[0m\u001b[1;33m)\u001b[0m\u001b[1;33m,\u001b[0m \u001b[0moctBoxes\u001b[0m\u001b[1;33m)\u001b[0m\u001b[1;33m\u001b[0m\u001b[0m\n",
      "\u001b[1;32mD:\\Package\\octree_voxelization\\octree.py\u001b[0m in \u001b[0;36mgetBoxTriangles\u001b[1;34m(triangles, box)\u001b[0m\n\u001b[0;32m      6\u001b[0m     \u001b[0mintersectTriangles\u001b[0m \u001b[1;33m=\u001b[0m \u001b[1;33m[\u001b[0m\u001b[1;33m]\u001b[0m\u001b[1;33m\u001b[0m\u001b[0m\n\u001b[0;32m      7\u001b[0m     \u001b[0mcoincideTriangles\u001b[0m \u001b[1;33m=\u001b[0m \u001b[1;33m[\u001b[0m\u001b[1;33m]\u001b[0m\u001b[1;33m\u001b[0m\u001b[0m\n\u001b[1;32m----> 8\u001b[1;33m     \u001b[1;32mfor\u001b[0m \u001b[0mtriangle\u001b[0m \u001b[1;32min\u001b[0m \u001b[0mtriangles\u001b[0m\u001b[1;33m:\u001b[0m\u001b[1;33m\u001b[0m\u001b[0m\n\u001b[0m\u001b[0;32m      9\u001b[0m         \u001b[0mstate\u001b[0m \u001b[1;33m=\u001b[0m \u001b[0mcheckIntersect\u001b[0m\u001b[1;33m(\u001b[0m\u001b[0mtriangle\u001b[0m\u001b[1;33m,\u001b[0m \u001b[0mbox\u001b[0m\u001b[1;33m)\u001b[0m\u001b[1;33m\u001b[0m\u001b[0m\n\u001b[0;32m     10\u001b[0m         \u001b[1;32mif\u001b[0m \u001b[0mstate\u001b[0m\u001b[1;33m==\u001b[0m\u001b[1;36m0\u001b[0m\u001b[1;33m:\u001b[0m\u001b[1;33m\u001b[0m\u001b[0m\n",
      "\u001b[1;32mD:\\Package\\octree_voxelization\\octree.py\u001b[0m in \u001b[0;36mcheckIntersect\u001b[1;34m(triangle, box)\u001b[0m\n\u001b[0;32m     24\u001b[0m             \u001b[1;36m2\u001b[0m \u001b[1;33m->\u001b[0m \u001b[0mintersect\u001b[0m\u001b[1;33m\u001b[0m\u001b[0m\n\u001b[0;32m     25\u001b[0m     \"\"\"\n\u001b[1;32m---> 26\u001b[1;33m     \u001b[0mprint\u001b[0m\u001b[1;33m(\u001b[0m\u001b[0mtriangle\u001b[0m\u001b[1;33m.\u001b[0m\u001b[0mshape\u001b[0m\u001b[1;33m)\u001b[0m\u001b[1;33m\u001b[0m\u001b[0m\n\u001b[0m\u001b[0;32m     27\u001b[0m     \u001b[0misOn\u001b[0m \u001b[1;33m=\u001b[0m \u001b[1;32mFalse\u001b[0m\u001b[1;33m\u001b[0m\u001b[0m\n\u001b[0;32m     28\u001b[0m     \u001b[1;32mif\u001b[0m \u001b[1;33m(\u001b[0m\u001b[0mtriangle\u001b[0m\u001b[1;33m[\u001b[0m\u001b[1;33m:\u001b[0m\u001b[1;36m3\u001b[0m\u001b[1;33m,\u001b[0m\u001b[1;36m0\u001b[0m\u001b[1;33m]\u001b[0m\u001b[1;33m<\u001b[0m\u001b[0mbox\u001b[0m\u001b[1;33m[\u001b[0m\u001b[1;36m0\u001b[0m\u001b[1;33m]\u001b[0m\u001b[1;33m)\u001b[0m\u001b[1;33m.\u001b[0m\u001b[0mall\u001b[0m\u001b[1;33m(\u001b[0m\u001b[1;33m)\u001b[0m\u001b[1;33m:\u001b[0m\u001b[1;33m\u001b[0m\u001b[0m\n",
      "\u001b[1;31mValueError\u001b[0m: operands could not be broadcast together with shapes (3,) (6,) "
     ]
    }
   ],
   "source": [
    "tree = octree.Octree(\"cube.stl\")"
   ]
  },
  {
   "cell_type": "code",
   "execution_count": 36,
   "metadata": {
    "collapsed": true
   },
   "outputs": [],
   "source": [
    "stl_mesh = mesh.Mesh.from_file(\"cube.stl\")"
   ]
  },
  {
   "cell_type": "code",
   "execution_count": 38,
   "metadata": {
    "collapsed": true
   },
   "outputs": [],
   "source": [
    "triangles = np.append(stl_mesh.points.reshape((-1,3,3)), stl_mesh.normals.reshape((-1,1,3)),axis=1)"
   ]
  },
  {
   "cell_type": "code",
   "execution_count": 39,
   "metadata": {},
   "outputs": [
    {
     "data": {
      "text/plain": [
       "(12, 4, 3)"
      ]
     },
     "execution_count": 39,
     "metadata": {},
     "output_type": "execute_result"
    }
   ],
   "source": [
    "triangles.shape"
   ]
  },
  {
   "cell_type": "code",
   "execution_count": 40,
   "metadata": {
    "collapsed": true
   },
   "outputs": [],
   "source": [
    "assert triangles.shape[1:]==(4,3)"
   ]
  },
  {
   "cell_type": "code",
   "execution_count": 24,
   "metadata": {},
   "outputs": [
    {
     "data": {
      "text/plain": [
       "(12, 3)"
      ]
     },
     "execution_count": 24,
     "metadata": {},
     "output_type": "execute_result"
    }
   ],
   "source": [
    "stl_mesh.normals.shape"
   ]
  },
  {
   "cell_type": "code",
   "execution_count": 25,
   "metadata": {},
   "outputs": [
    {
     "data": {
      "text/plain": [
       "(12, 9)"
      ]
     },
     "execution_count": 25,
     "metadata": {},
     "output_type": "execute_result"
    }
   ],
   "source": [
    "stl_mesh.points.shape"
   ]
  },
  {
   "cell_type": "code",
   "execution_count": 26,
   "metadata": {},
   "outputs": [
    {
     "data": {
      "text/plain": [
       "array([[[-10000.,      0.,     -0.]],\n",
       "\n",
       "       [[-10000.,      0.,      0.]],\n",
       "\n",
       "       [[     0., -10000.,      0.]],\n",
       "\n",
       "       [[     0., -10000.,      0.]],\n",
       "\n",
       "       [[ 10000.,      0.,      0.]],\n",
       "\n",
       "       [[ 10000.,      0.,     -0.]],\n",
       "\n",
       "       [[     0.,  10000.,      0.]],\n",
       "\n",
       "       [[     0.,  10000.,      0.]],\n",
       "\n",
       "       [[     0.,      0.,  10000.]],\n",
       "\n",
       "       [[     0.,      0.,  10000.]],\n",
       "\n",
       "       [[     0.,      0., -10000.]],\n",
       "\n",
       "       [[     0.,      0., -10000.]]], dtype=float32)"
      ]
     },
     "execution_count": 26,
     "metadata": {},
     "output_type": "execute_result"
    }
   ],
   "source": [
    "stl_mesh.normals.reshape((-1,1,3))"
   ]
  },
  {
   "cell_type": "code",
   "execution_count": 27,
   "metadata": {},
   "outputs": [
    {
     "data": {
      "text/plain": [
       "(12, 1, 3)"
      ]
     },
     "execution_count": 27,
     "metadata": {},
     "output_type": "execute_result"
    }
   ],
   "source": [
    "stl_mesh.normals.reshape((-1,1,3)).shape"
   ]
  },
  {
   "cell_type": "code",
   "execution_count": 29,
   "metadata": {},
   "outputs": [
    {
     "data": {
      "text/plain": [
       "array([[[     0.,    100.,    100.],\n",
       "        [     0.,    100.,      0.],\n",
       "        [     0.,      0.,      0.],\n",
       "        [-10000.,      0.,     -0.]],\n",
       "\n",
       "       [[     0.,      0.,      0.],\n",
       "        [     0.,      0.,    100.],\n",
       "        [     0.,    100.,    100.],\n",
       "        [-10000.,      0.,      0.]],\n",
       "\n",
       "       [[     0.,      0.,    100.],\n",
       "        [     0.,      0.,      0.],\n",
       "        [   100.,      0.,      0.],\n",
       "        [     0., -10000.,      0.]],\n",
       "\n",
       "       [[   100.,      0.,      0.],\n",
       "        [   100.,      0.,    100.],\n",
       "        [     0.,      0.,    100.],\n",
       "        [     0., -10000.,      0.]],\n",
       "\n",
       "       [[   100.,      0.,    100.],\n",
       "        [   100.,      0.,      0.],\n",
       "        [   100.,    100.,      0.],\n",
       "        [ 10000.,      0.,      0.]],\n",
       "\n",
       "       [[   100.,    100.,      0.],\n",
       "        [   100.,    100.,    100.],\n",
       "        [   100.,      0.,    100.],\n",
       "        [ 10000.,      0.,     -0.]],\n",
       "\n",
       "       [[   100.,    100.,    100.],\n",
       "        [   100.,    100.,      0.],\n",
       "        [     0.,    100.,      0.],\n",
       "        [     0.,  10000.,      0.]],\n",
       "\n",
       "       [[     0.,    100.,      0.],\n",
       "        [     0.,    100.,    100.],\n",
       "        [   100.,    100.,    100.],\n",
       "        [     0.,  10000.,      0.]],\n",
       "\n",
       "       [[   100.,    100.,    100.],\n",
       "        [     0.,    100.,    100.],\n",
       "        [     0.,      0.,    100.],\n",
       "        [     0.,      0.,  10000.]],\n",
       "\n",
       "       [[     0.,      0.,    100.],\n",
       "        [   100.,      0.,    100.],\n",
       "        [   100.,    100.,    100.],\n",
       "        [     0.,      0.,  10000.]],\n",
       "\n",
       "       [[   100.,      0.,      0.],\n",
       "        [     0.,      0.,      0.],\n",
       "        [     0.,    100.,      0.],\n",
       "        [     0.,      0., -10000.]],\n",
       "\n",
       "       [[     0.,    100.,      0.],\n",
       "        [   100.,    100.,      0.],\n",
       "        [   100.,      0.,      0.],\n",
       "        [     0.,      0., -10000.]]], dtype=float32)"
      ]
     },
     "execution_count": 29,
     "metadata": {},
     "output_type": "execute_result"
    }
   ],
   "source": [
    "np.append(stl_mesh.points.reshape((-1,3,3)), stl_mesh.normals.reshape((-1,1,3)),axis=1)"
   ]
  },
  {
   "cell_type": "code",
   "execution_count": 30,
   "metadata": {},
   "outputs": [
    {
     "data": {
      "text/plain": [
       "(12, 4, 3)"
      ]
     },
     "execution_count": 30,
     "metadata": {},
     "output_type": "execute_result"
    }
   ],
   "source": [
    "np.append(stl_mesh.points.reshape((-1,3,3)), stl_mesh.normals.reshape((-1,1,3)),axis=1).shape"
   ]
  },
  {
   "cell_type": "code",
   "execution_count": 31,
   "metadata": {
    "collapsed": true
   },
   "outputs": [],
   "source": [
    "a=np.ones((2,9))\n",
    "b=np.zeros((2,3))"
   ]
  },
  {
   "cell_type": "code",
   "execution_count": 32,
   "metadata": {},
   "outputs": [
    {
     "data": {
      "text/plain": [
       "array([[ 1.,  1.,  1.,  1.,  1.,  1.,  1.,  1.,  1.],\n",
       "       [ 1.,  1.,  1.,  1.,  1.,  1.,  1.,  1.,  1.]])"
      ]
     },
     "execution_count": 32,
     "metadata": {},
     "output_type": "execute_result"
    }
   ],
   "source": [
    "a"
   ]
  },
  {
   "cell_type": "code",
   "execution_count": 33,
   "metadata": {},
   "outputs": [
    {
     "data": {
      "text/plain": [
       "array([[ 0.,  0.,  0.],\n",
       "       [ 0.,  0.,  0.]])"
      ]
     },
     "execution_count": 33,
     "metadata": {},
     "output_type": "execute_result"
    }
   ],
   "source": [
    "b"
   ]
  },
  {
   "cell_type": "code",
   "execution_count": 34,
   "metadata": {},
   "outputs": [
    {
     "data": {
      "text/plain": [
       "array([[[ 1.,  1.,  1.],\n",
       "        [ 1.,  1.,  1.],\n",
       "        [ 1.,  1.,  1.],\n",
       "        [ 0.,  0.,  0.]],\n",
       "\n",
       "       [[ 1.,  1.,  1.],\n",
       "        [ 1.,  1.,  1.],\n",
       "        [ 1.,  1.,  1.],\n",
       "        [ 0.,  0.,  0.]]])"
      ]
     },
     "execution_count": 34,
     "metadata": {},
     "output_type": "execute_result"
    }
   ],
   "source": [
    "np.append(a.reshape((-1,3,3)), b.reshape((-1,1,3)),axis=1)"
   ]
  },
  {
   "cell_type": "code",
   "execution_count": 42,
   "metadata": {
    "collapsed": true
   },
   "outputs": [],
   "source": [
    "bounding_box = np.append(stl_mesh.min_, stl_mesh.max_)"
   ]
  },
  {
   "cell_type": "code",
   "execution_count": 1,
   "metadata": {},
   "outputs": [
    {
     "name": "stdout",
     "output_type": "stream",
     "text": [
      "Level 0, ctriangels:0, itriangles:79, box:[-49.96046829 -49.99011612 -50.          50.          49.99011612  50.        ]\n",
      "Level 1, ctriangels:0, itriangles:79, box:[-49.960468, -49.990116, -50.0, 0.019765853881835938, 0.0, 0.0]\n",
      "Level 1, ctriangels:0, itriangles:40, box:[0.019765853881835938, -49.990116, -50.0, 50.0, 0.0, 0.0]\n",
      "Level 1, ctriangels:0, itriangles:79, box:[-49.960468, 0.0, -50.0, 0.019765853881835938, 49.990116, 0.0]\n",
      "Level 1, ctriangels:0, itriangles:40, box:[0.019765853881835938, 0.0, -50.0, 50.0, 49.990116, 0.0]\n",
      "Level 1, ctriangels:0, itriangles:79, box:[-49.960468, -49.990116, 0.0, 0.019765853881835938, 0.0, 50.0]\n",
      "Level 1, ctriangels:0, itriangles:40, box:[0.019765853881835938, -49.990116, 0.0, 50.0, 0.0, 50.0]\n",
      "Level 1, ctriangels:0, itriangles:79, box:[-49.960468, 0.0, 0.0, 0.019765853881835938, 49.990116, 50.0]\n",
      "Level 1, ctriangels:0, itriangles:40, box:[0.019765853881835938, 0.0, 0.0, 50.0, 49.990116, 50.0]\n",
      "Level 2, ctriangels:0, itriangles:79, box:[-24.970351219177246, -24.995058059692383, -50.0, 0.019765853881835938, 0.0, -25.0]\n",
      "Level 2, ctriangels:0, itriangles:79, box:[-24.970351219177246, -24.995058059692383, -25.0, 0.019765853881835938, 0.0, 0.0]\n",
      "Level 2, ctriangels:0, itriangles:40, box:[0.019765853881835938, -24.995058059692383, -50.0, 25.009882926940918, 0.0, -25.0]\n",
      "Level 2, ctriangels:0, itriangles:40, box:[0.019765853881835938, -24.995058059692383, -25.0, 25.009882926940918, 0.0, 0.0]\n",
      "Level 2, ctriangels:0, itriangles:79, box:[-24.970351219177246, 0.0, -50.0, 0.019765853881835938, 24.995058059692383, -25.0]\n",
      "Level 2, ctriangels:0, itriangles:79, box:[-24.970351219177246, 0.0, -25.0, 0.019765853881835938, 24.995058059692383, 0.0]\n",
      "Level 2, ctriangels:0, itriangles:40, box:[0.019765853881835938, 0.0, -50.0, 25.009882926940918, 24.995058059692383, -25.0]\n",
      "Level 2, ctriangels:0, itriangles:40, box:[0.019765853881835938, 0.0, -25.0, 25.009882926940918, 24.995058059692383, 0.0]\n",
      "Level 2, ctriangels:0, itriangles:79, box:[-24.970351219177246, -24.995058059692383, 0.0, 0.019765853881835938, 0.0, 25.0]\n",
      "Level 2, ctriangels:0, itriangles:79, box:[-24.970351219177246, -24.995058059692383, 25.0, 0.019765853881835938, 0.0, 50.0]\n",
      "Level 2, ctriangels:0, itriangles:40, box:[0.019765853881835938, -24.995058059692383, 0.0, 25.009882926940918, 0.0, 25.0]\n",
      "Level 2, ctriangels:0, itriangles:40, box:[0.019765853881835938, -24.995058059692383, 25.0, 25.009882926940918, 0.0, 50.0]\n",
      "Level 2, ctriangels:0, itriangles:79, box:[-24.970351219177246, 0.0, 0.0, 0.019765853881835938, 24.995058059692383, 25.0]\n",
      "Level 2, ctriangels:0, itriangles:79, box:[-24.970351219177246, 0.0, 25.0, 0.019765853881835938, 24.995058059692383, 50.0]\n",
      "Level 2, ctriangels:0, itriangles:40, box:[0.019765853881835938, 0.0, 0.0, 25.009882926940918, 24.995058059692383, 25.0]\n",
      "Level 2, ctriangels:0, itriangles:40, box:[0.019765853881835938, 0.0, 25.0, 25.009882926940918, 24.995058059692383, 50.0]\n"
     ]
    }
   ],
   "source": [
    "from octree import *\n",
    "\n",
    "tree = Octree(\"ball.stl\")\n",
    "boxes, bounding_box=tree.traverse()"
   ]
  },
  {
   "cell_type": "code",
   "execution_count": 2,
   "metadata": {},
   "outputs": [
    {
     "data": {
      "text/plain": [
       "16"
      ]
     },
     "execution_count": 2,
     "metadata": {},
     "output_type": "execute_result"
    }
   ],
   "source": [
    "len(boxes)"
   ]
  },
  {
   "cell_type": "code",
   "execution_count": 3,
   "metadata": {
    "collapsed": true
   },
   "outputs": [],
   "source": [
    "stl_mesh = mesh.Mesh.from_file(\"ball.stl\")"
   ]
  },
  {
   "cell_type": "code",
   "execution_count": 4,
   "metadata": {},
   "outputs": [
    {
     "data": {
      "text/plain": [
       "(6162, 9)"
      ]
     },
     "execution_count": 4,
     "metadata": {},
     "output_type": "execute_result"
    }
   ],
   "source": [
    "stl_mesh.points.shape"
   ]
  },
  {
   "cell_type": "code",
   "execution_count": 5,
   "metadata": {},
   "outputs": [
    {
     "data": {
      "text/plain": [
       "(36, 9)"
      ]
     },
     "execution_count": 5,
     "metadata": {},
     "output_type": "execute_result"
    }
   ],
   "source": [
    "stl_mesh = mesh.Mesh.from_file(\"step.stl\")\n",
    "stl_mesh.points.shape"
   ]
  },
  {
   "cell_type": "code",
   "execution_count": 1,
   "metadata": {
    "scrolled": true
   },
   "outputs": [
    {
     "name": "stdout",
     "output_type": "stream",
     "text": [
      "Level 0, ctriangels:22, itriangles:14, box:[   0.    0.    0.  100.  100.  100.]\n",
      "Level 1, ctriangels:12, itriangles:0, box:[0.0, 0.0, 0.0, 50.0, 50.0, 50.0]\n",
      "Level 1, ctriangels:12, itriangles:0, box:[50.0, 0.0, 0.0, 100.0, 50.0, 50.0]\n",
      "Level 1, ctriangels:12, itriangles:0, box:[0.0, 50.0, 0.0, 50.0, 100.0, 50.0]\n",
      "Level 1, ctriangels:14, itriangles:0, box:[50.0, 50.0, 0.0, 100.0, 100.0, 50.0]\n",
      "Level 1, ctriangels:12, itriangles:0, box:[0.0, 0.0, 50.0, 50.0, 50.0, 100.0]\n",
      "Level 1, ctriangels:12, itriangles:4, box:[50.0, 0.0, 50.0, 100.0, 50.0, 100.0]\n",
      "Level 1, ctriangels:14, itriangles:0, box:[0.0, 50.0, 50.0, 50.0, 100.0, 100.0]\n",
      "Level 1, ctriangels:18, itriangles:6, box:[50.0, 50.0, 50.0, 100.0, 100.0, 100.0]\n",
      "Level 2, ctriangels:4, itriangles:0, box:[50.0, 0.0, 50.0, 75.0, 25.0, 75.0]\n",
      "Level 2, ctriangels:4, itriangles:0, box:[75.0, 0.0, 50.0, 100.0, 25.0, 75.0]\n",
      "Level 2, ctriangels:4, itriangles:0, box:[50.0, 25.0, 50.0, 75.0, 50.0, 75.0]\n",
      "Level 2, ctriangels:6, itriangles:0, box:[75.0, 25.0, 50.0, 100.0, 50.0, 75.0]\n",
      "Level 2, ctriangels:4, itriangles:0, box:[50.0, 0.0, 75.0, 75.0, 25.0, 100.0]\n",
      "Level 2, ctriangels:6, itriangles:0, box:[50.0, 25.0, 75.0, 75.0, 50.0, 100.0]\n",
      "Level 2, ctriangels:4, itriangles:0, box:[75.0, 25.0, 75.0, 100.0, 50.0, 100.0]\n",
      "Level 2, ctriangels:8, itriangles:0, box:[50.0, 50.0, 50.0, 75.0, 75.0, 75.0]\n",
      "Level 2, ctriangels:12, itriangles:0, box:[75.0, 50.0, 50.0, 100.0, 75.0, 75.0]\n",
      "Level 2, ctriangels:8, itriangles:0, box:[50.0, 75.0, 50.0, 75.0, 100.0, 75.0]\n",
      "Level 2, ctriangels:11, itriangles:0, box:[75.0, 75.0, 50.0, 100.0, 100.0, 75.0]\n",
      "Level 2, ctriangels:12, itriangles:0, box:[50.0, 50.0, 75.0, 75.0, 75.0, 100.0]\n",
      "Level 2, ctriangels:12, itriangles:0, box:[75.0, 50.0, 75.0, 100.0, 75.0, 100.0]\n",
      "Level 2, ctriangels:11, itriangles:0, box:[50.0, 75.0, 75.0, 75.0, 100.0, 100.0]\n",
      "Level 2, ctriangels:12, itriangles:0, box:[75.0, 75.0, 75.0, 100.0, 100.0, 100.0]\n"
     ]
    }
   ],
   "source": [
    "from octree import *\n",
    "tree = Octree(\"step.stl\")\n",
    "boxes, bounding_box=tree.traverse()"
   ]
  },
  {
   "cell_type": "code",
   "execution_count": 2,
   "metadata": {},
   "outputs": [
    {
     "data": {
      "text/plain": [
       "21"
      ]
     },
     "execution_count": 2,
     "metadata": {},
     "output_type": "execute_result"
    }
   ],
   "source": [
    "len(boxes)"
   ]
  },
  {
   "cell_type": "code",
   "execution_count": null,
   "metadata": {
    "collapsed": true
   },
   "outputs": [],
   "source": []
  }
 ],
 "metadata": {
  "kernelspec": {
   "display_name": "Python 3",
   "language": "python",
   "name": "python3"
  },
  "language_info": {
   "codemirror_mode": {
    "name": "ipython",
    "version": 3
   },
   "file_extension": ".py",
   "mimetype": "text/x-python",
   "name": "python",
   "nbconvert_exporter": "python",
   "pygments_lexer": "ipython3",
   "version": "3.6.3"
  }
 },
 "nbformat": 4,
 "nbformat_minor": 2
}
